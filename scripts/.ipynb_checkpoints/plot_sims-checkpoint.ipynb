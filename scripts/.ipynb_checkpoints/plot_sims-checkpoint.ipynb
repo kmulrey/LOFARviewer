{
 "cells": [
  {
   "cell_type": "code",
   "execution_count": 16,
   "metadata": {},
   "outputs": [],
   "source": [
    "import numpy as np\n",
    "from optparse import OptionParser\n",
    "import pickle\n",
    "import re\n",
    "from scipy.signal import hilbert\n",
    "from scipy.signal import resample\n",
    "import scipy.fftpack as fftp\n",
    "import os\n",
    "import process_func as prf\n",
    "import importlib as imp\n",
    "import matplotlib.pyplot as plt\n",
    "import fluence as flu\n",
    "import scipy.interpolate as intp\n",
    "from matplotlib import cm\n"
   ]
  },
  {
   "cell_type": "code",
   "execution_count": 17,
   "metadata": {},
   "outputs": [],
   "source": [
    "datadir='/Users/kmulrey/radio/viewer/data/272886233/1/coreas/proton/'\n",
    "\n",
    "fileno='000091'"
   ]
  },
  {
   "cell_type": "code",
   "execution_count": 73,
   "metadata": {},
   "outputs": [],
   "source": [
    "l_trace=4082\n",
    "nantennas=160\n",
    "   \n",
    "onskypower=np.zeros([nantennas,2])\n",
    "antenna_position=np.zeros([nantennas,3])\n",
    "xyz_trace=np.zeros([nantennas,3,l_trace])\n",
    "\n",
    "filteredpower=np.zeros([nantennas,2])\n",
    "power=np.zeros([nantennas,2])\n",
    "power11=np.zeros([nantennas,2])\n",
    "power21=np.zeros([nantennas,2])\n",
    "power41=np.zeros([nantennas,2])\n",
    "peak_time=np.zeros([nantennas,2])\n",
    "peak_bin=np.zeros([nantennas,2])\n",
    "peak_amplitude=np.zeros([nantennas,2])\n",
    "pol_angle=np.zeros([nantennas])\n",
    "pol_angle_filt=np.zeros([nantennas])\n",
    "\n",
    "fluence=np.zeros([nantennas])\n",
    "\n",
    "   \n",
    "longfile = '{0}/DAT{1}.long'.format(datadir,str(fileno).zfill(6))\n",
    "steerfile = '{0}/steering/RUN{1}.inp'.format(datadir,str(fileno).zfill(6))\n",
    "listfile = open('{0}/steering/SIM{1}.list'.format(datadir,str(fileno).zfill(6)))\n",
    "lorafile = '{0}/DAT{1}.lora'.format(datadir,str(fileno).zfill(6))\n",
    "longdata=np.genfromtxt(longfile, skip_header=2, skip_footer=5, usecols=(0,2,3))\n",
    "xlength=np.argmax(np.isnan(longdata[:,0]))\n",
    "Xground=xlength*10.0\n",
    "profile = longdata[0:xlength,:]\n",
    "\n",
    "# this reading longprofile is broken?\n",
    "#longprofile=np.zeros([400,3]) #The profiles have different lengths, unlikely to exceed 400... (maybe inclined events??)\n",
    "#longprofile[0:xlength,:]=np.array([profile[:,0],profile[:,1]+profile[:,2],profile[:,2]-profile[:,1]]).T\n",
    "\n",
    "hillas = np.genfromtxt(re.findall(\"PARAMETERS.*\",open(longfile,'r').read()))[2:]\n",
    "zenith=(np.genfromtxt(re.findall(\"THETAP.*\",open(steerfile,'r').read()))[1])*np.pi/180. #rad; CORSIKA coordinates\n",
    "azimuth=np.mod(np.genfromtxt(re.findall(\"PHIP.*\",open(steerfile,'r').read()))[1],360)*np.pi/180.  #rad; CORSIKA coordinates\n",
    "energy=np.genfromtxt(re.findall(\"ERANGE.*\",open(steerfile,'r').read()))[1] #GeV\n",
    "lines = listfile.readlines()\n",
    "\n"
   ]
  },
  {
   "cell_type": "code",
   "execution_count": 19,
   "metadata": {},
   "outputs": [
    {
     "data": {
      "text/plain": [
       "<module 'process_func' from '/Users/kmulrey/radio/viewer/scripts/process_func.py'>"
      ]
     },
     "execution_count": 19,
     "metadata": {},
     "output_type": "execute_result"
    }
   ],
   "source": [
    "imp.reload(prf)\n"
   ]
  },
  {
   "cell_type": "code",
   "execution_count": 93,
   "metadata": {},
   "outputs": [
    {
     "ename": "ValueError",
     "evalue": "operands could not be broadcast together with shapes (160,3,4082) (3,) ",
     "output_type": "error",
     "traceback": [
      "\u001b[0;31m---------------------------------------------------------------------------\u001b[0m",
      "\u001b[0;31mValueError\u001b[0m                                Traceback (most recent call last)",
      "\u001b[0;32m/var/folders/80/rtt8wgyj27v6g316xvh03yyc0000gn/T/ipykernel_10061/1908952303.py\u001b[0m in \u001b[0;36m<module>\u001b[0;34m\u001b[0m\n\u001b[1;32m     30\u001b[0m \u001b[0;34m\u001b[0m\u001b[0m\n\u001b[1;32m     31\u001b[0m         \u001b[0;31m#UVW=prf.GetUVW(XYZ,0,0,0,zen_rot,az_rot,1.1837)#1.1837)\u001b[0m\u001b[0;34m\u001b[0m\u001b[0;34m\u001b[0m\u001b[0m\n\u001b[0;32m---> 32\u001b[0;31m         \u001b[0mUVW\u001b[0m\u001b[0;34m=\u001b[0m\u001b[0mprf\u001b[0m\u001b[0;34m.\u001b[0m\u001b[0mGetUVW\u001b[0m\u001b[0;34m(\u001b[0m\u001b[0mxyz_trace\u001b[0m\u001b[0;34m,\u001b[0m\u001b[0;36m0\u001b[0m\u001b[0;34m,\u001b[0m\u001b[0;36m0\u001b[0m\u001b[0;34m,\u001b[0m\u001b[0;36m0\u001b[0m\u001b[0;34m,\u001b[0m\u001b[0mzen_rot\u001b[0m\u001b[0;34m,\u001b[0m\u001b[0maz_rot\u001b[0m\u001b[0;34m,\u001b[0m\u001b[0;36m1.1837\u001b[0m\u001b[0;34m)\u001b[0m\u001b[0;31m#1.1837)\u001b[0m\u001b[0;34m\u001b[0m\u001b[0;34m\u001b[0m\u001b[0m\n\u001b[0m\u001b[1;32m     33\u001b[0m \u001b[0;34m\u001b[0m\u001b[0m\n\u001b[1;32m     34\u001b[0m         \u001b[0mStokes\u001b[0m\u001b[0;34m=\u001b[0m\u001b[0mprf\u001b[0m\u001b[0;34m.\u001b[0m\u001b[0mstokes_parameters\u001b[0m\u001b[0;34m(\u001b[0m\u001b[0mUVW\u001b[0m\u001b[0;34m[\u001b[0m\u001b[0;34m:\u001b[0m\u001b[0;34m,\u001b[0m\u001b[0;36m0\u001b[0m\u001b[0;34m]\u001b[0m\u001b[0;34m,\u001b[0m\u001b[0mUVW\u001b[0m\u001b[0;34m[\u001b[0m\u001b[0;34m:\u001b[0m\u001b[0;34m,\u001b[0m\u001b[0;36m1\u001b[0m\u001b[0;34m]\u001b[0m\u001b[0;34m,\u001b[0m\u001b[0mfftp\u001b[0m\u001b[0;34m.\u001b[0m\u001b[0mhilbert\u001b[0m\u001b[0;34m(\u001b[0m\u001b[0mUVW\u001b[0m\u001b[0;34m[\u001b[0m\u001b[0;34m:\u001b[0m\u001b[0;34m,\u001b[0m\u001b[0;36m0\u001b[0m\u001b[0;34m]\u001b[0m\u001b[0;34m)\u001b[0m\u001b[0;34m,\u001b[0m\u001b[0mfftp\u001b[0m\u001b[0;34m.\u001b[0m\u001b[0mhilbert\u001b[0m\u001b[0;34m(\u001b[0m\u001b[0mUVW\u001b[0m\u001b[0;34m[\u001b[0m\u001b[0;34m:\u001b[0m\u001b[0;34m,\u001b[0m\u001b[0;36m1\u001b[0m\u001b[0;34m]\u001b[0m\u001b[0;34m)\u001b[0m\u001b[0;34m)\u001b[0m\u001b[0;34m\u001b[0m\u001b[0;34m\u001b[0m\u001b[0m\n",
      "\u001b[0;32m~/radio/viewer/scripts/process_func.py\u001b[0m in \u001b[0;36mGetUVW\u001b[0;34m(pos, cx, cy, cz, zen, az, Binc)\u001b[0m\n\u001b[1;32m     17\u001b[0m \u001b[0;34m\u001b[0m\u001b[0m\n\u001b[1;32m     18\u001b[0m \u001b[0;32mdef\u001b[0m \u001b[0mGetUVW\u001b[0m\u001b[0;34m(\u001b[0m\u001b[0mpos\u001b[0m\u001b[0;34m,\u001b[0m \u001b[0mcx\u001b[0m\u001b[0;34m,\u001b[0m \u001b[0mcy\u001b[0m\u001b[0;34m,\u001b[0m \u001b[0mcz\u001b[0m\u001b[0;34m,\u001b[0m \u001b[0mzen\u001b[0m\u001b[0;34m,\u001b[0m \u001b[0maz\u001b[0m\u001b[0;34m,\u001b[0m \u001b[0mBinc\u001b[0m\u001b[0;34m)\u001b[0m\u001b[0;34m:\u001b[0m\u001b[0;34m\u001b[0m\u001b[0;34m\u001b[0m\u001b[0m\n\u001b[0;32m---> 19\u001b[0;31m    \u001b[0mrelpos\u001b[0m \u001b[0;34m=\u001b[0m \u001b[0mpos\u001b[0m\u001b[0;34m-\u001b[0m\u001b[0mnp\u001b[0m\u001b[0;34m.\u001b[0m\u001b[0marray\u001b[0m\u001b[0;34m(\u001b[0m\u001b[0;34m[\u001b[0m\u001b[0mcx\u001b[0m\u001b[0;34m,\u001b[0m\u001b[0mcy\u001b[0m\u001b[0;34m,\u001b[0m\u001b[0mcz\u001b[0m\u001b[0;34m]\u001b[0m\u001b[0;34m)\u001b[0m\u001b[0;34m\u001b[0m\u001b[0;34m\u001b[0m\u001b[0m\n\u001b[0m\u001b[1;32m     20\u001b[0m    \u001b[0mB\u001b[0m \u001b[0;34m=\u001b[0m \u001b[0mnp\u001b[0m\u001b[0;34m.\u001b[0m\u001b[0marray\u001b[0m\u001b[0;34m(\u001b[0m\u001b[0;34m[\u001b[0m\u001b[0;36m0\u001b[0m\u001b[0;34m,\u001b[0m\u001b[0mnp\u001b[0m\u001b[0;34m.\u001b[0m\u001b[0mcos\u001b[0m\u001b[0;34m(\u001b[0m\u001b[0mBinc\u001b[0m\u001b[0;34m)\u001b[0m\u001b[0;34m,\u001b[0m\u001b[0;34m-\u001b[0m\u001b[0mnp\u001b[0m\u001b[0;34m.\u001b[0m\u001b[0msin\u001b[0m\u001b[0;34m(\u001b[0m\u001b[0mBinc\u001b[0m\u001b[0;34m)\u001b[0m\u001b[0;34m]\u001b[0m\u001b[0;34m)\u001b[0m\u001b[0;34m\u001b[0m\u001b[0;34m\u001b[0m\u001b[0m\n\u001b[1;32m     21\u001b[0m    \u001b[0mv\u001b[0m \u001b[0;34m=\u001b[0m \u001b[0mnp\u001b[0m\u001b[0;34m.\u001b[0m\u001b[0marray\u001b[0m\u001b[0;34m(\u001b[0m\u001b[0;34m[\u001b[0m\u001b[0;34m-\u001b[0m\u001b[0mnp\u001b[0m\u001b[0;34m.\u001b[0m\u001b[0mcos\u001b[0m\u001b[0;34m(\u001b[0m\u001b[0maz\u001b[0m\u001b[0;34m)\u001b[0m\u001b[0;34m*\u001b[0m\u001b[0mnp\u001b[0m\u001b[0;34m.\u001b[0m\u001b[0msin\u001b[0m\u001b[0;34m(\u001b[0m\u001b[0mzen\u001b[0m\u001b[0;34m)\u001b[0m\u001b[0;34m,\u001b[0m\u001b[0;34m-\u001b[0m\u001b[0mnp\u001b[0m\u001b[0;34m.\u001b[0m\u001b[0msin\u001b[0m\u001b[0;34m(\u001b[0m\u001b[0maz\u001b[0m\u001b[0;34m)\u001b[0m\u001b[0;34m*\u001b[0m\u001b[0mnp\u001b[0m\u001b[0;34m.\u001b[0m\u001b[0msin\u001b[0m\u001b[0;34m(\u001b[0m\u001b[0mzen\u001b[0m\u001b[0;34m)\u001b[0m\u001b[0;34m,\u001b[0m\u001b[0;34m-\u001b[0m\u001b[0mnp\u001b[0m\u001b[0;34m.\u001b[0m\u001b[0mcos\u001b[0m\u001b[0;34m(\u001b[0m\u001b[0mzen\u001b[0m\u001b[0;34m)\u001b[0m\u001b[0;34m]\u001b[0m\u001b[0;34m)\u001b[0m\u001b[0;34m\u001b[0m\u001b[0;34m\u001b[0m\u001b[0m\n",
      "\u001b[0;31mValueError\u001b[0m: operands could not be broadcast together with shapes (160,3,4082) (3,) "
     ]
    }
   ],
   "source": [
    "#for j in np.arange(nantennas):\n",
    "for j in np.arange(20,21):\n",
    "\n",
    "        antenna_position[j] = (lines[j].split(\" \")[2:5]) #read antenna position...\n",
    "        antenna_file = lines[j].split(\" \")[5]   #... and output filename from the antenna list file\n",
    "        coreasfile = '{0}/SIM{1}_coreas/raw_{2}.dat'.format(datadir,str(fileno).zfill(6),antenna_file[:-1]) #drop the \\n from the string!\n",
    "        data=np.genfromtxt(coreasfile)\n",
    "        data[:,1:]*=2.99792458e4 # convert Ex, Ey and Ez (not time!) to Volt/meter\n",
    "        dlength=int(data.shape[0])\n",
    "        poldata=np.ndarray([dlength,2])\n",
    "        poldata_filt=np.ndarray([dlength,2])\n",
    "\n",
    "        az_rot=3*np.pi/2+azimuth    #conversion from CORSIKA coordinates to 0=east, pi/2=north\n",
    "        zen_rot=zenith\n",
    "        XYZ=np.zeros([dlength,3])\n",
    "        XYZ[:,0]=-data[:,2] #conversion from CORSIKA coordinates to 0=east, pi/2=north\n",
    "        XYZ[:,1]=data[:,1]\n",
    "        XYZ[:,2]=data[:,3]\n",
    "        \n",
    "        # find value to roll\n",
    "        t = np.argmax([np.max(abs(XYZ[:,0])),np.max(abs(XYZ[:,1])),np.max(abs(XYZ[:,2]))])\n",
    "        roll_n=int(len(XYZ[:,t])/2-np.argmax(abs(XYZ[:,t])))\n",
    "\n",
    "        \n",
    "        xyz_trace[j,0]=np.roll(XYZ[:,0],roll_n)\n",
    "        xyz_trace[j,1]=np.roll(XYZ[:,1],roll_n)\n",
    "        xyz_trace[j,2]=np.roll(XYZ[:,2],roll_n)\n",
    "\n",
    "\n",
    "        \n",
    "        #UVW=prf.GetUVW(XYZ,0,0,0,zen_rot,az_rot,1.1837)#1.1837)\n",
    "        UVW=prf.GetUVW(xyz_trace[j].T,0,0,0,zen_rot,az_rot,1.1837)#1.1837)\n",
    "\n",
    "        Stokes=prf.stokes_parameters(UVW[:,0],UVW[:,1],fftp.hilbert(UVW[:,0]),fftp.hilbert(UVW[:,1]))\n",
    "        pol_angle[j]=prf.polarization_angle(Stokes)\n",
    "        UVWfilt=prf.FreqFilter(UVW,30,80,data[1,0]-data[0,0])\n",
    "        Stokesfilt=prf.stokes_parameters(UVWfilt[:,0],UVWfilt[:,1],fftp.hilbert(UVWfilt[:,0]),fftp.hilbert(UVWfilt[:,1]))\n",
    "        pol_angle_filt[j]=prf.polarization_angle(Stokesfilt)\n",
    "        # Convert to on-sky coordinates (n, theta, phi) to prepare for application of antenna model\n",
    "        #poldata[:,0] = -1.0/np.sin(zen_rot)*data[:,3] # -1/sin(theta) *z\n",
    "        #poldata[:,1] = np.sin(az_rot)*data[:,2] + np.cos(az_rot)*data[:,1] # -sin(phi) *x + cos(phi)*y in coREAS 0=positive y, 1=negative x\n",
    "        \n",
    "        \n",
    "        poldata[:,0] = -1.0/np.sin(zen_rot)*xyz_trace[j,2] # -1/sin(theta) *z\n",
    "        poldata[:,1] = -1*np.sin(az_rot)*xyz_trace[j,0] + np.cos(az_rot)*xyz_trace[j,1] # -sin(phi) *x + cos(phi)*y in coREAS 0=positive y, 1=negative x\n",
    "        \n",
    "        \n",
    "        \n",
    "        \n",
    "        \n",
    "        pol0fft=np.fft.rfft(poldata.T[0])\n",
    "        pol1fft=np.fft.rfft(poldata.T[1])\n",
    "        freq = np.fft.rfftfreq(len(poldata), d=data[1,0]-data[0,0])\n",
    "        # if you want to change frequency band, change the frequencies here\n",
    "        bandpass_filter = prf.simple_bandpass(freq,lower_freq=30.0E6, upper_freq=80.0E6)\n",
    "        pol0fft_filt=pol0fft*bandpass_filter\n",
    "        pol1fft_filt=pol1fft*bandpass_filter\n",
    "        poldata_filt.T[0]=np.fft.irfft(pol0fft_filt)\n",
    "        poldata_filt.T[1]=np.fft.irfft(pol1fft_filt)\n",
    "        \n",
    "        hold=flu.calculate_energy_fluence_vector(poldata_filt,data.T[0], signal_window=100., remove_noise=True)\n",
    "        fluence[j]=hold[0]+hold[1]\n",
    "\n",
    "        "
   ]
  },
  {
   "cell_type": "code",
   "execution_count": 92,
   "metadata": {},
   "outputs": [
    {
     "data": {
      "text/plain": [
       "[<matplotlib.lines.Line2D at 0x122835610>]"
      ]
     },
     "execution_count": 92,
     "metadata": {},
     "output_type": "execute_result"
    },
    {
     "data": {
      "image/png": "[encoded data removed]",
      "text/plain": [
       "<Figure size 432x288 with 2 Axes>"
      ]
     },
     "metadata": {},
     "output_type": "display_data"
    }
   ],
   "source": [
    "fig = plt.figure(facecolor='white')\n",
    "ax1 = fig.add_subplot(1,2,1)\n",
    "ax2 = fig.add_subplot(1,2,2)\n",
    "ax1.plot(xyz_trace[20][0],color='red')\n",
    "ax1.plot(xyz_trace[20][1],color='blue')\n",
    "ax1.plot(xyz_trace[20][2],color='green')\n",
    "\n",
    "ax2.plot(poldata_filt.T[0])\n",
    "ax2.plot(poldata_filt.T[1])"
   ]
  },
  {
   "cell_type": "code",
   "execution_count": 21,
   "metadata": {},
   "outputs": [],
   "source": [
    "#put everything in the right coordinate system for the transformation to shower plane\n",
    "\n",
    "az=azimuth+3*np.pi/2 #  +x = east (phi=0), +y = north (phi=90)\n",
    "\n",
    "zen=zenith\n",
    "temp=np.copy(antenna_position)\n",
    "antenna_position[:,0], antenna_position[:,1], antenna_position[:,2] = -temp[:,1]/100., temp[:,0]/100., temp[:,2]/100."
   ]
  },
  {
   "cell_type": "code",
   "execution_count": 22,
   "metadata": {},
   "outputs": [],
   "source": [
    "# function takes antenna positions in the ground plane and returns positions in the shower plane\n",
    "\n",
    "def GetUVW(pos, cx, cy, zen, az):\n",
    "    #relpos = pos-np.array([cx,cy,2400])\n",
    "    relpos = pos-np.array([cx,cy,0])\n",
    "    #inc=-1.48#-84.8/180.*np.pi#1.1837\n",
    "    inc=1.1837#-84.8/180.*np.pi#1.1837\n",
    "\n",
    "    B = np.array([0,np.cos(inc),-np.sin(inc)])\n",
    "    v = np.array([-np.cos(az)*np.sin(zen),-np.sin(az)*np.sin(zen),-np.cos(zen)])\n",
    "    #print v\n",
    "    vxB = np.array([v[1]*B[2]-v[2]*B[1],v[2]*B[0]-v[0]*B[2],v[0]*B[1]-v[1]*B[0]])\n",
    "    vxB = vxB/np.linalg.norm(vxB)\n",
    "    vxvxB = np.array([v[1]*vxB[2]-v[2]*vxB[1],v[2]*vxB[0]-v[0]*vxB[2],v[0]*vxB[1]-v[1]*vxB[0]])\n",
    "    return np.array([np.inner(vxB,relpos),np.inner(vxvxB,relpos),np.inner(v,relpos)]).T"
   ]
  },
  {
   "cell_type": "code",
   "execution_count": 23,
   "metadata": {},
   "outputs": [],
   "source": [
    "# transform simulated antenna positions to shower plane (vxB, vxvxB)\n",
    "antUVW=GetUVW(antenna_position, 0, 0, zen, az)"
   ]
  },
  {
   "cell_type": "code",
   "execution_count": 24,
   "metadata": {},
   "outputs": [],
   "source": [
    "#interpolation\n",
    "rbf = intp.Rbf(antUVW.T[0], antUVW.T[1], fluence,smooth =0,function='quintic')\n",
    "#rbf = intp.Rbf(antenna_position.T[0],antenna_position.T[1], fluence,smooth =0,function='quintic')\n"
   ]
  },
  {
   "cell_type": "code",
   "execution_count": 25,
   "metadata": {},
   "outputs": [],
   "source": [
    "#make the grid to plot\n",
    "dist_scale=500\n",
    "ti = np.linspace(-dist_scale, dist_scale, 150)\n",
    "XI, YI = np.meshgrid(ti, ti)\n",
    "ZI = rbf(XI, YI)\n"
   ]
  },
  {
   "cell_type": "code",
   "execution_count": 26,
   "metadata": {},
   "outputs": [
    {
     "name": "stderr",
     "output_type": "stream",
     "text": [
      "/var/folders/80/rtt8wgyj27v6g316xvh03yyc0000gn/T/ipykernel_10061/2436825790.py:5: MatplotlibDeprecationWarning: shading='flat' when X and Y have the same dimensions as C is deprecated since 3.3.  Either specify the corners of the quadrilaterals with X and Y, or pass shading='auto', 'nearest' or 'gouraud', or set rcParams['pcolor.shading'].  This will become an error two minor releases later.\n",
      "  ax2.pcolor(XI, YI, ZI,vmax=np.max(fluence), vmin=0,cmap=cm.jet)\n"
     ]
    },
    {
     "data": {
      "image/png": "[encoded data removed]",
      "text/plain": [
       "<Figure size 432x288 with 2 Axes>"
      ]
     },
     "metadata": {},
     "output_type": "display_data"
    }
   ],
   "source": [
    "fig = plt.figure(facecolor='white')\n",
    "ax1 = fig.add_subplot(1,2,1,aspect=1)\n",
    "ax2 = fig.add_subplot(1,2,2,aspect=1)\n",
    "\n",
    "ax2.pcolor(XI, YI, ZI,vmax=np.max(fluence), vmin=0,cmap=cm.jet)\n",
    "#ax2.pcolor(XI, YI, ZI,vmax=70, vmin=0,cmap=cm.jet)\n",
    "\n",
    "ax1.scatter(antUVW.T[0],antUVW.T[1],20,c=fluence,vmax=np.max(fluence), vmin=0,cmap=cm.jet)\n",
    "#ax1.scatter(antenna_position.T[0],antenna_position.T[1],20,c=fluence,vmax=np.max(fluence), vmin=0,cmap=cm.jet)\n",
    "#ax1.scatter(antenna_position.T[0],antenna_position.T[1],20,c=fluence,vmax=70, vmin=0,cmap=cm.jet)\n",
    "\n",
    "ax1.set_xlim([-200,200])\n",
    "ax1.set_ylim([-200,200])\n",
    "ax2.set_xlim([-200,200])\n",
    "ax2.set_ylim([-200,200])\n",
    "\n",
    "#ax1.set_title('ground plane')\n",
    "#ax2.set_title('interpolated- shower plane')\n",
    "\n",
    "\n",
    "plt.show()"
   ]
  },
  {
   "cell_type": "code",
   "execution_count": 27,
   "metadata": {},
   "outputs": [
    {
     "name": "stdout",
     "output_type": "stream",
     "text": [
      "12.734886947721076\n"
     ]
    }
   ],
   "source": [
    "print(np.max(fluence))"
   ]
  },
  {
   "cell_type": "code",
   "execution_count": 30,
   "metadata": {},
   "outputs": [
    {
     "data": {
      "image/png": "[encoded data removed]",
      "text/plain": [
       "<Figure size 432x288 with 1 Axes>"
      ]
     },
     "metadata": {},
     "output_type": "display_data"
    }
   ],
   "source": [
    "fig = plt.figure(facecolor='white')\n",
    "ax1 = fig.add_subplot(1,2,1)\n",
    "arm=0\n",
    "\n",
    "#ax1.scatter(antUVW.T[0][arm::8],antUVW.T[1][arm::8],20,c=fluence[arm::8],vmax=80, vmin=0,cmap=cm.jet)\n",
    "#ax1.scatter(antenna_position.T[0],antenna_position.T[1],20,c=fluence,vmax=np.max(fluence), vmin=0,cmap=cm.jet)\n",
    "#ax1.scatter(antenna_position.T[0],antenna_position.T[1],20,c=fluence,vmax=70, vmin=0,cmap=cm.jet)\n",
    "\n",
    "\n",
    "ax1.plot(antUVW.T[0][arm::8],fluence[arm::8])\n",
    "\n",
    "\n",
    "#ax1.set_xlim([-400,400])\n",
    "\n",
    "#ax1.set_title('ground plane')\n",
    "\n",
    "\n",
    "plt.show()"
   ]
  },
  {
   "cell_type": "code",
   "execution_count": null,
   "metadata": {},
   "outputs": [],
   "source": []
  }
 ],
 "metadata": {
  "kernelspec": {
   "display_name": "Python 3 (ipykernel)",
   "language": "python",
   "name": "python3"
  },
  "language_info": {
   "codemirror_mode": {
    "name": "ipython",
    "version": 3
   },
   "file_extension": ".py",
   "mimetype": "text/x-python",
   "name": "python",
   "nbconvert_exporter": "python",
   "pygments_lexer": "ipython3",
   "version": "3.9.13"
  }
 },
 "nbformat": 4,
 "nbformat_minor": 4
}
